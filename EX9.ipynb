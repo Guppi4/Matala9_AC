{
  "nbformat": 4,
  "nbformat_minor": 0,
  "metadata": {
    "colab": {
      "provenance": []
    },
    "kernelspec": {
      "name": "python3",
      "display_name": "Python 3"
    },
    "language_info": {
      "name": "python"
    }
  },
  "cells": [
    {
      "cell_type": "code",
      "source": [
        "pip install cvxpy\n"
      ],
      "metadata": {
        "colab": {
          "base_uri": "https://localhost:8080/"
        },
        "id": "_aKZ3EjY6vH7",
        "outputId": "bc6d674d-fad2-4978-b243-3154af1d0d7b"
      },
      "execution_count": 14,
      "outputs": [
        {
          "output_type": "stream",
          "name": "stdout",
          "text": [
            "Requirement already satisfied: cvxpy in /usr/local/lib/python3.10/dist-packages (1.3.3)\n",
            "Requirement already satisfied: osqp>=0.4.1 in /usr/local/lib/python3.10/dist-packages (from cvxpy) (0.6.2.post8)\n",
            "Requirement already satisfied: ecos>=2 in /usr/local/lib/python3.10/dist-packages (from cvxpy) (2.0.13)\n",
            "Requirement already satisfied: scs>=1.1.6 in /usr/local/lib/python3.10/dist-packages (from cvxpy) (3.2.4.post1)\n",
            "Requirement already satisfied: numpy>=1.15 in /usr/local/lib/python3.10/dist-packages (from cvxpy) (1.25.2)\n",
            "Requirement already satisfied: scipy>=1.1.0 in /usr/local/lib/python3.10/dist-packages (from cvxpy) (1.11.4)\n",
            "Requirement already satisfied: setuptools>65.5.1 in /usr/local/lib/python3.10/dist-packages (from cvxpy) (67.7.2)\n",
            "Requirement already satisfied: qdldl in /usr/local/lib/python3.10/dist-packages (from osqp>=0.4.1->cvxpy) (0.1.7.post0)\n"
          ]
        }
      ]
    },
    {
      "cell_type": "code",
      "source": [
        "pip install numpy\n"
      ],
      "metadata": {
        "colab": {
          "base_uri": "https://localhost:8080/"
        },
        "id": "0hFKjvVA7IH-",
        "outputId": "09ca4059-e2a2-4a98-8eab-617075f58c93"
      },
      "execution_count": 15,
      "outputs": [
        {
          "output_type": "stream",
          "name": "stdout",
          "text": [
            "Requirement already satisfied: numpy in /usr/local/lib/python3.10/dist-packages (1.25.2)\n"
          ]
        }
      ]
    },
    {
      "cell_type": "code",
      "source": [
        "import numpy as np\n",
        "import cvxpy as cp\n",
        "\n",
        "def  find_decomposition(budget, preferences):\n",
        "    n = len(preferences)  # Number of citizens\n",
        "    m = len(budget)  # Number of issues\n",
        "    C = sum(budget)  # Total budget\n",
        "\n",
        "    # Convert preferences to a matrix form for easier manipulation\n",
        "    pref_matrix = np.zeros((n, m))\n",
        "    for i, prefs in enumerate(preferences):\n",
        "        for j in prefs:\n",
        "            pref_matrix[i, j] = 1\n",
        "\n",
        "    # Each citizen's share of the budget\n",
        "    share_per_citizen = C / n\n",
        "\n",
        "    # Setup the optimization variables\n",
        "    d = cp.Variable((n, m))\n",
        "\n",
        "    # The utility function to maximize: sum of logs of allocated budgets to supported issues\n",
        "    utilities = []\n",
        "    for i in range(n):\n",
        "        for j in range(m):\n",
        "            utilities.append(cp.log(d[i, j] + 1) * pref_matrix[i, j])  # Adding 1 to avoid log(0)\n",
        "\n",
        "    # Objective function: maximize the sum of utilities\n",
        "    objective = cp.Maximize(cp.sum(utilities))\n",
        "\n",
        "    # Constraints\n",
        "    constraints = []\n",
        "\n",
        "    # Each issue gets its exact budget\n",
        "    for j in range(m):\n",
        "        constraints.append(cp.sum(d[:, j]) == budget[j])\n",
        "\n",
        "    # Each citizen uses up their share of the budget, considering only the issues they care about\n",
        "    for i in range(n):\n",
        "        constraints.append(cp.sum(cp.multiply(d[i, :], pref_matrix[i, :])) == share_per_citizen)\n",
        "\n",
        "    # d[i, j] >= 0 for all i, j\n",
        "    constraints += [d >= 0]\n",
        "\n",
        "    # Solve the problem\n",
        "    problem = cp.Problem(objective, constraints)\n",
        "    problem.solve()\n",
        "\n",
        "    # Check if the problem was solved successfully\n",
        "    if problem.status not in [\"infeasible\", \"unbounded\"]:\n",
        "        # If solved, prepare a more readable output\n",
        "        allocation_matrix = np.round(d.value).astype(int)  # Ensure it's rounded and converted to integers\n",
        "        readable_output = \"\"\n",
        "        for i in range(n):\n",
        "            for j in range(m):\n",
        "                if allocation_matrix[i, j] > 0:\n",
        "                    readable_output += f\"Player {chr(65 + i)} contributes {allocation_matrix[i, j]} to issue {j}; \"\n",
        "        return readable_output.strip('; ')\n",
        "    else:\n",
        "        return \"No feasible breakdown.\"\n",
        "\n",
        "\n"
      ],
      "metadata": {
        "id": "P25QqBs9GobR"
      },
      "execution_count": 59,
      "outputs": []
    },
    {
      "cell_type": "code",
      "source": [
        "\n",
        "    # Example usage\n",
        "    print(\"Example 1: \")\n",
        "    budget = [400, 50, 50, 0]  # Budget\n",
        "    preferences = [{0, 1}, {0, 2}, {0, 3}, {1, 2}, {0}]  # Preferences\n",
        "    breakdown =  find_decomposition(budget, preferences)\n",
        "    if breakdown is not None and \"No feasible breakdown.\" not in breakdown:\n",
        "        print(\"Break down found:\\n\", breakdown)\n",
        "    else:\n",
        "        print(\"No feasible breakdown.\")\n",
        "\n",
        "\n",
        "    print(\"\\nExample 2 No feasible breakdown.: \")\n",
        "    budget_2 = [0, 432]  # Budget\n",
        "    preferences_2 = [{0}, {1}, {1}]  # Preferences\n",
        "    breakdown_2 =  find_decomposition(budget_2, preferences_2)\n",
        "    if breakdown_2 is not None and \"No feasible breakdown.\" not in breakdown_2:\n",
        "        print(\"Break down found:\\n\", breakdown_2)\n",
        "    else:\n",
        "        print(\"No feasible breakdown\\n\")\n"
      ],
      "metadata": {
        "colab": {
          "base_uri": "https://localhost:8080/"
        },
        "id": "aacLhQ3DHD3u",
        "outputId": "88469e39-f78d-4f10-edc2-ff7286339285"
      },
      "execution_count": 60,
      "outputs": [
        {
          "output_type": "stream",
          "name": "stdout",
          "text": [
            "Example 1: \n",
            "Break down found:\n",
            " Player A contributes 100 to issue 0; Player B contributes 100 to issue 0; Player C contributes 100 to issue 0; Player D contributes 50 to issue 1; Player D contributes 50 to issue 2; Player E contributes 100 to issue 0\n",
            "\n",
            "Example 2 No feasible breakdown.: \n",
            "No feasible breakdown\n",
            "\n"
          ]
        }
      ]
    }
  ]
}
